{
 "cells": [
  {
   "cell_type": "markdown",
   "id": "e3e38d10",
   "metadata": {},
   "source": [
    "# Session -1"
   ]
  },
  {
   "cell_type": "markdown",
   "id": "488c64bd",
   "metadata": {},
   "source": [
    "print(hello World)"
   ]
  },
  {
   "cell_type": "code",
   "execution_count": 2,
   "id": "9d57fcaf",
   "metadata": {},
   "outputs": [
    {
     "data": {
      "text/plain": [
       "2"
      ]
     },
     "execution_count": 2,
     "metadata": {},
     "output_type": "execute_result"
    }
   ],
   "source": [
    "1+1"
   ]
  },
  {
   "cell_type": "code",
   "execution_count": 3,
   "id": "b9b343d0",
   "metadata": {},
   "outputs": [
    {
     "data": {
      "text/plain": [
       "10"
      ]
     },
     "execution_count": 3,
     "metadata": {},
     "output_type": "execute_result"
    }
   ],
   "source": [
    "5+5"
   ]
  },
  {
   "cell_type": "code",
   "execution_count": 4,
   "id": "46c4565a",
   "metadata": {},
   "outputs": [
    {
     "data": {
      "text/plain": [
       "5.0"
      ]
     },
     "execution_count": 4,
     "metadata": {},
     "output_type": "execute_result"
    }
   ],
   "source": [
    "10/2"
   ]
  },
  {
   "cell_type": "code",
   "execution_count": 5,
   "id": "f5bba270",
   "metadata": {},
   "outputs": [
    {
     "data": {
      "text/plain": [
       "20"
      ]
     },
     "execution_count": 5,
     "metadata": {},
     "output_type": "execute_result"
    }
   ],
   "source": [
    "10*2"
   ]
  },
  {
   "cell_type": "code",
   "execution_count": 6,
   "id": "f9458818",
   "metadata": {},
   "outputs": [],
   "source": [
    "#variable"
   ]
  },
  {
   "cell_type": "code",
   "execution_count": 8,
   "id": "4bc93195",
   "metadata": {},
   "outputs": [
    {
     "name": "stdout",
     "output_type": "stream",
     "text": [
      "100\n"
     ]
    }
   ],
   "source": [
    "a=45\n",
    "b=55\n",
    "c= a+b\n",
    "print(c)"
   ]
  },
  {
   "cell_type": "code",
   "execution_count": 9,
   "id": "53c7a6e9",
   "metadata": {},
   "outputs": [],
   "source": [
    "# data-types in python"
   ]
  },
  {
   "cell_type": "code",
   "execution_count": 10,
   "id": "ea8e0fcc",
   "metadata": {},
   "outputs": [],
   "source": [
    "# integer-----> 5,7,8,9,10,100\n",
    "# float -----> 5.6,8.90,6.98\n",
    "# string----> \"234568789hjnksjdh23487\"\n",
    "# boolean -----> bool -----> True, False"
   ]
  },
  {
   "cell_type": "code",
   "execution_count": 24,
   "id": "6b33b747",
   "metadata": {},
   "outputs": [
    {
     "data": {
      "text/plain": [
       "int"
      ]
     },
     "execution_count": 24,
     "metadata": {},
     "output_type": "execute_result"
    }
   ],
   "source": [
    "type(5)"
   ]
  },
  {
   "cell_type": "code",
   "execution_count": 25,
   "id": "2810eeb6",
   "metadata": {},
   "outputs": [
    {
     "data": {
      "text/plain": [
       "float"
      ]
     },
     "execution_count": 25,
     "metadata": {},
     "output_type": "execute_result"
    }
   ],
   "source": [
    "type(14.2)"
   ]
  },
  {
   "cell_type": "code",
   "execution_count": 28,
   "id": "1cf4f6f9",
   "metadata": {},
   "outputs": [
    {
     "data": {
      "text/plain": [
       "bool"
      ]
     },
     "execution_count": 28,
     "metadata": {},
     "output_type": "execute_result"
    }
   ],
   "source": [
    "type (True)"
   ]
  },
  {
   "cell_type": "code",
   "execution_count": 30,
   "id": "19b97d54",
   "metadata": {},
   "outputs": [
    {
     "name": "stdout",
     "output_type": "stream",
     "text": [
      "Enter a number7\n"
     ]
    }
   ],
   "source": [
    "a = input (\"Enter a number\")"
   ]
  },
  {
   "cell_type": "code",
   "execution_count": 31,
   "id": "caa57568",
   "metadata": {},
   "outputs": [
    {
     "name": "stdout",
     "output_type": "stream",
     "text": [
      "7\n"
     ]
    }
   ],
   "source": [
    "print (a)"
   ]
  },
  {
   "cell_type": "code",
   "execution_count": 51,
   "id": "b14969b8",
   "metadata": {},
   "outputs": [
    {
     "name": "stdout",
     "output_type": "stream",
     "text": [
      "Enter first number:5\n",
      "Enter second number5\n",
      "10.0\n"
     ]
    }
   ],
   "source": [
    "a = float(input (\"Enter first number:\"))\n",
    "b = float(input (\"Enter second number\"))\n",
    "c= a+b\n",
    "print (c)"
   ]
  },
  {
   "cell_type": "code",
   "execution_count": 53,
   "id": "55500505",
   "metadata": {},
   "outputs": [],
   "source": [
    "a = 45,47,46"
   ]
  },
  {
   "cell_type": "code",
   "execution_count": 55,
   "id": "bb709b71",
   "metadata": {},
   "outputs": [
    {
     "data": {
      "text/plain": [
       "(45, 47, 46)"
      ]
     },
     "execution_count": 55,
     "metadata": {},
     "output_type": "execute_result"
    }
   ],
   "source": [
    "a"
   ]
  },
  {
   "cell_type": "code",
   "execution_count": 56,
   "id": "66fa11c9",
   "metadata": {},
   "outputs": [
    {
     "data": {
      "text/plain": [
       "tuple"
      ]
     },
     "execution_count": 56,
     "metadata": {},
     "output_type": "execute_result"
    }
   ],
   "source": [
    "type(a)"
   ]
  },
  {
   "cell_type": "code",
   "execution_count": 57,
   "id": "fa10c4cc",
   "metadata": {},
   "outputs": [],
   "source": [
    "# sequential data type \n",
    "\n",
    "#list\n",
    "#tuple\n",
    "#dict\n",
    "#sets"
   ]
  },
  {
   "cell_type": "code",
   "execution_count": 61,
   "id": "5e1a220f",
   "metadata": {},
   "outputs": [],
   "source": [
    "# list -----> []\n",
    "# tuple ----> ()\n",
    "# dict -----> {}\n",
    "# sets -----> {}"
   ]
  },
  {
   "cell_type": "code",
   "execution_count": 108,
   "id": "7b1fd7c3",
   "metadata": {},
   "outputs": [],
   "source": [
    "mylist = [34,35,36,87.5,37,\"hello\",[12,91,15,10],33,]"
   ]
  },
  {
   "cell_type": "code",
   "execution_count": 109,
   "id": "97b5cde3",
   "metadata": {
    "scrolled": true
   },
   "outputs": [
    {
     "name": "stdout",
     "output_type": "stream",
     "text": [
      "[34, 35, 36, 87.5, 37, 'hello', [12, 91, 15, 10], 33]\n"
     ]
    }
   ],
   "source": [
    "print(mylist)"
   ]
  },
  {
   "cell_type": "code",
   "execution_count": 106,
   "id": "81a5fca7",
   "metadata": {},
   "outputs": [
    {
     "name": "stdout",
     "output_type": "stream",
     "text": [
      "<class 'list'>\n"
     ]
    }
   ],
   "source": [
    "print(type(mylist))"
   ]
  },
  {
   "cell_type": "code",
   "execution_count": 107,
   "id": "6307753d",
   "metadata": {},
   "outputs": [
    {
     "data": {
      "text/plain": [
       "9"
      ]
     },
     "execution_count": 107,
     "metadata": {},
     "output_type": "execute_result"
    }
   ],
   "source": [
    "len(mylist)"
   ]
  },
  {
   "cell_type": "code",
   "execution_count": 89,
   "id": "1c634334",
   "metadata": {},
   "outputs": [
    {
     "data": {
      "text/plain": [
       "34"
      ]
     },
     "execution_count": 89,
     "metadata": {},
     "output_type": "execute_result"
    }
   ],
   "source": [
    "mylist[0]"
   ]
  },
  {
   "cell_type": "code",
   "execution_count": 95,
   "id": "035f775f",
   "metadata": {},
   "outputs": [
    {
     "data": {
      "text/plain": [
       "12"
      ]
     },
     "execution_count": 95,
     "metadata": {},
     "output_type": "execute_result"
    }
   ],
   "source": [
    "mylist [-2][-4]"
   ]
  },
  {
   "cell_type": "code",
   "execution_count": 100,
   "id": "26fe1377",
   "metadata": {},
   "outputs": [],
   "source": [
    "# indexing ----> getting a single element \n",
    "#slicing -----> getting a sequence of elements "
   ]
  },
  {
   "cell_type": "code",
   "execution_count": 102,
   "id": "abe5162a",
   "metadata": {},
   "outputs": [
    {
     "data": {
      "text/plain": [
       "[35, 36, 87.5]"
      ]
     },
     "execution_count": 102,
     "metadata": {},
     "output_type": "execute_result"
    }
   ],
   "source": [
    "mylist[1:4]"
   ]
  },
  {
   "cell_type": "code",
   "execution_count": 111,
   "id": "685af336",
   "metadata": {},
   "outputs": [],
   "source": [
    "mylist= [34,76,87.9,314,\"hello\",[12,91,10],33,\"world\"]"
   ]
  },
  {
   "cell_type": "code",
   "execution_count": 147,
   "id": "2fa6643f",
   "metadata": {},
   "outputs": [
    {
     "data": {
      "text/plain": [
       "['hello', [12, 91, 10], 33]"
      ]
     },
     "execution_count": 147,
     "metadata": {},
     "output_type": "execute_result"
    }
   ],
   "source": [
    "mylist[-4:-1]"
   ]
  },
  {
   "cell_type": "code",
   "execution_count": 149,
   "id": "26c0ab2b",
   "metadata": {},
   "outputs": [
    {
     "name": "stdout",
     "output_type": "stream",
     "text": [
      "hello world\n"
     ]
    }
   ],
   "source": [
    "print(mylist[4],mylist[-1] )"
   ]
  },
  {
   "cell_type": "code",
   "execution_count": 150,
   "id": "64829024",
   "metadata": {},
   "outputs": [
    {
     "name": "stdout",
     "output_type": "stream",
     "text": [
      "ok\n"
     ]
    }
   ],
   "source": [
    "a=45\n",
    "if a> 10:\n",
    "    print(\"ok\")"
   ]
  },
  {
   "cell_type": "code",
   "execution_count": 165,
   "id": "e83ef385",
   "metadata": {},
   "outputs": [
    {
     "name": "stdout",
     "output_type": "stream",
     "text": [
      "ok\n"
     ]
    }
   ],
   "source": [
    "a=45\n",
    "if a> 10:\n",
    "    print(\"ok\")\n",
    "elif a==45:\n",
    "     print(\"done\")\n",
    "else:\n",
    "    print(\"bye\")"
   ]
  },
  {
   "cell_type": "code",
   "execution_count": 168,
   "id": "12f8ff54",
   "metadata": {},
   "outputs": [],
   "source": [
    "#user will gave their marks out of 80 as an input you need to inform the students to what grade it belongs to:\n",
    "# 65-80 = grade  A\n",
    "# 45-65 = grade B\n",
    "# 38-45 = grade c\n",
    "# less than 30 = Fail"
   ]
  },
  {
   "cell_type": "code",
   "execution_count": 5,
   "id": "3722700f",
   "metadata": {},
   "outputs": [
    {
     "ename": "SyntaxError",
     "evalue": "invalid syntax (1464029624.py, line 2)",
     "output_type": "error",
     "traceback": [
      "\u001b[1;36m  Cell \u001b[1;32mIn[5], line 2\u001b[1;36m\u001b[0m\n\u001b[1;33m    if a<=80 and a=>65:\u001b[0m\n\u001b[1;37m                  ^\u001b[0m\n\u001b[1;31mSyntaxError\u001b[0m\u001b[1;31m:\u001b[0m invalid syntax\n"
     ]
    }
   ],
   "source": [
    "a = int(input(\"Enter your marks:\"))\n",
    "if a<=80 and a=>65:\n",
    "    print (\"A\")\n",
    "elif a<=64 and a=>45:\n",
    "    print (\"B\")\n",
    "elif a<=44 and a=>30:\n",
    "    print (\"C\")\n",
    "elif a <30 and a=>0:\n",
    "    print (\"Fail\")\n",
    "elif:\n",
    "    print(\"enter a valid number\")"
   ]
  },
  {
   "cell_type": "code",
   "execution_count": null,
   "id": "f013d151",
   "metadata": {},
   "outputs": [],
   "source": []
  },
  {
   "cell_type": "code",
   "execution_count": null,
   "id": "44460c01",
   "metadata": {},
   "outputs": [],
   "source": []
  },
  {
   "cell_type": "code",
   "execution_count": null,
   "id": "742cc1af",
   "metadata": {},
   "outputs": [],
   "source": []
  }
 ],
 "metadata": {
  "kernelspec": {
   "display_name": "Python 3 (ipykernel)",
   "language": "python",
   "name": "python3"
  },
  "language_info": {
   "codemirror_mode": {
    "name": "ipython",
    "version": 3
   },
   "file_extension": ".py",
   "mimetype": "text/x-python",
   "name": "python",
   "nbconvert_exporter": "python",
   "pygments_lexer": "ipython3",
   "version": "3.11.5"
  }
 },
 "nbformat": 4,
 "nbformat_minor": 5
}
